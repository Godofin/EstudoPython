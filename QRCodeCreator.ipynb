{
  "nbformat": 4,
  "nbformat_minor": 0,
  "metadata": {
    "colab": {
      "name": "QRCodeCreator.ipynb",
      "provenance": [],
      "authorship_tag": "ABX9TyM5TJ9dP0iU0JidN2bnAkof",
      "include_colab_link": true
    },
    "kernelspec": {
      "name": "python3",
      "display_name": "Python 3"
    },
    "language_info": {
      "name": "python"
    }
  },
  "cells": [
    {
      "cell_type": "markdown",
      "metadata": {
        "id": "view-in-github",
        "colab_type": "text"
      },
      "source": [
        "<a href=\"https://colab.research.google.com/github/Godofin/EstudoPython/blob/main/QRCodeCreator.ipynb\" target=\"_parent\"><img src=\"https://colab.research.google.com/assets/colab-badge.svg\" alt=\"Open In Colab\"/></a>"
      ]
    },
    {
      "cell_type": "code",
      "metadata": {
        "colab": {
          "base_uri": "https://localhost:8080/"
        },
        "id": "9lcdUt2XofPQ",
        "outputId": "d91155cd-7f2c-4365-df5a-bf625d447f29"
      },
      "source": [
        "pip install pypng"
      ],
      "execution_count": 15,
      "outputs": [
        {
          "output_type": "stream",
          "name": "stdout",
          "text": [
            "Collecting pypng\n",
            "  Downloading pypng-0.0.21-py3-none-any.whl (48 kB)\n",
            "\u001b[?25l\r\u001b[K     |██████▉                         | 10 kB 28.3 MB/s eta 0:00:01\r\u001b[K     |█████████████▋                  | 20 kB 33.4 MB/s eta 0:00:01\r\u001b[K     |████████████████████▍           | 30 kB 35.6 MB/s eta 0:00:01\r\u001b[K     |███████████████████████████▎    | 40 kB 38.1 MB/s eta 0:00:01\r\u001b[K     |████████████████████████████████| 48 kB 4.6 MB/s \n",
            "\u001b[?25hInstalling collected packages: pypng\n",
            "Successfully installed pypng-0.0.21\n"
          ]
        }
      ]
    },
    {
      "cell_type": "code",
      "metadata": {
        "colab": {
          "base_uri": "https://localhost:8080/"
        },
        "id": "Lhs0Qatyn2Tc",
        "outputId": "fff512c7-9c25-4759-fbfe-f371a52c13fb"
      },
      "source": [
        "pip install pyqrcode"
      ],
      "execution_count": 2,
      "outputs": [
        {
          "output_type": "stream",
          "name": "stdout",
          "text": [
            "Collecting pyqrcode\n",
            "  Downloading PyQRCode-1.2.1.zip (41 kB)\n",
            "\u001b[?25l\r\u001b[K     |███████▉                        | 10 kB 25.7 MB/s eta 0:00:01\r\u001b[K     |███████████████▋                | 20 kB 30.4 MB/s eta 0:00:01\r\u001b[K     |███████████████████████▌        | 30 kB 34.0 MB/s eta 0:00:01\r\u001b[K     |███████████████████████████████▎| 40 kB 27.8 MB/s eta 0:00:01\r\u001b[K     |████████████████████████████████| 41 kB 703 kB/s \n",
            "\u001b[?25hBuilding wheels for collected packages: pyqrcode\n",
            "  Building wheel for pyqrcode (setup.py) ... \u001b[?25l\u001b[?25hdone\n",
            "  Created wheel for pyqrcode: filename=PyQRCode-1.2.1-py3-none-any.whl size=36245 sha256=00d2228c1c48634757be7f5df223492e0bf84729eaf4ef647b224bc2978a2d97\n",
            "  Stored in directory: /root/.cache/pip/wheels/aa/14/ad/f09824edf35fdc5fd8acc01b60ff57f858f212a2d5c41dddd2\n",
            "Successfully built pyqrcode\n",
            "Installing collected packages: pyqrcode\n",
            "Successfully installed pyqrcode-1.2.1\n"
          ]
        }
      ]
    },
    {
      "cell_type": "code",
      "metadata": {
        "id": "bzWCrxMFnyZj"
      },
      "source": [
        "import pyqrcode\n",
        "import png"
      ],
      "execution_count": 16,
      "outputs": []
    },
    {
      "cell_type": "code",
      "metadata": {
        "id": "ZWwdV0YBoGUb"
      },
      "source": [
        "s = \"https://guilhermelavezzo.blogspot.com/\""
      ],
      "execution_count": 4,
      "outputs": []
    },
    {
      "cell_type": "code",
      "metadata": {
        "id": "soNMMcQ9oLVQ"
      },
      "source": [
        "url = pyqrcode.create(s)"
      ],
      "execution_count": 6,
      "outputs": []
    },
    {
      "cell_type": "code",
      "metadata": {
        "id": "o3Q1hnAPoPVW"
      },
      "source": [
        "url.svg(\"myqr.svg\", scale=8)"
      ],
      "execution_count": 13,
      "outputs": []
    },
    {
      "cell_type": "code",
      "metadata": {
        "id": "QdS85spGpKGk"
      },
      "source": [
        "url.png(\"myqr.png\", scale=8)"
      ],
      "execution_count": 17,
      "outputs": []
    }
  ]
}