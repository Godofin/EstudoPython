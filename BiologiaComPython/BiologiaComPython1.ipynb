{
  "nbformat": 4,
  "nbformat_minor": 0,
  "metadata": {
    "colab": {
      "name": "BiologiaComPython1.ipynb",
      "provenance": []
    },
    "kernelspec": {
      "name": "python3",
      "display_name": "Python 3"
    },
    "language_info": {
      "name": "python"
    }
  },
  "cells": [
    {
      "cell_type": "code",
      "execution_count": 17,
      "metadata": {
        "id": "eH7TYP2IZ97b"
      },
      "outputs": [],
      "source": [
        "humano =        \"AGTAATATTCTTTATGACAATTCATTTGATTA\"\n",
        "chimpanze =     \"AATAATATTCTTTATGACAATTCATTTGATTT\"\n"
      ]
    },
    {
      "cell_type": "code",
      "source": [
        "lista_sequencia = [humano, chimpanze]"
      ],
      "metadata": {
        "id": "IkIa5a4QafLp"
      },
      "execution_count": 5,
      "outputs": []
    },
    {
      "cell_type": "code",
      "source": [
        "def cria_matriz(lista):\n",
        "  matriz = {}\n",
        "  tamanho_sequencia = len(lista[0])\n",
        "\n",
        "  for base in \"ACTG\":\n",
        "    matriz[base] = [0] * tamanho_sequencia\n",
        "\n",
        "  return matriz"
      ],
      "metadata": {
        "id": "fDmL3Z9rao5-"
      },
      "execution_count": 6,
      "outputs": []
    },
    {
      "cell_type": "code",
      "source": [
        "matriz_zeros = cria_matriz(lista_sequencia)\n",
        "print(matriz_zeros)"
      ],
      "metadata": {
        "colab": {
          "base_uri": "https://localhost:8080/"
        },
        "id": "AfEvLwYRbXn-",
        "outputId": "9e7d522e-ae1f-4ca5-9d1e-8f8d6e460b9c"
      },
      "execution_count": 7,
      "outputs": [
        {
          "output_type": "stream",
          "name": "stdout",
          "text": [
            "{'A': [0, 0, 0, 0, 0, 0, 0, 0, 0, 0, 0, 0, 0, 0, 0, 0, 0, 0, 0, 0, 0, 0, 0, 0, 0, 0, 0, 0, 0, 0, 0, 0], 'C': [0, 0, 0, 0, 0, 0, 0, 0, 0, 0, 0, 0, 0, 0, 0, 0, 0, 0, 0, 0, 0, 0, 0, 0, 0, 0, 0, 0, 0, 0, 0, 0], 'T': [0, 0, 0, 0, 0, 0, 0, 0, 0, 0, 0, 0, 0, 0, 0, 0, 0, 0, 0, 0, 0, 0, 0, 0, 0, 0, 0, 0, 0, 0, 0, 0], 'G': [0, 0, 0, 0, 0, 0, 0, 0, 0, 0, 0, 0, 0, 0, 0, 0, 0, 0, 0, 0, 0, 0, 0, 0, 0, 0, 0, 0, 0, 0, 0, 0]}\n"
          ]
        }
      ]
    },
    {
      "cell_type": "code",
      "source": [
        "for linha in matriz_zeros.items():\n",
        "  print(linha)"
      ],
      "metadata": {
        "colab": {
          "base_uri": "https://localhost:8080/"
        },
        "id": "sXQE1y0abfuQ",
        "outputId": "c498e57f-e091-4150-871a-620aef27faa0"
      },
      "execution_count": 10,
      "outputs": [
        {
          "output_type": "stream",
          "name": "stdout",
          "text": [
            "('A', [0, 0, 0, 0, 0, 0, 0, 0, 0, 0, 0, 0, 0, 0, 0, 0, 0, 0, 0, 0, 0, 0, 0, 0, 0, 0, 0, 0, 0, 0, 0, 0])\n",
            "('C', [0, 0, 0, 0, 0, 0, 0, 0, 0, 0, 0, 0, 0, 0, 0, 0, 0, 0, 0, 0, 0, 0, 0, 0, 0, 0, 0, 0, 0, 0, 0, 0])\n",
            "('T', [0, 0, 0, 0, 0, 0, 0, 0, 0, 0, 0, 0, 0, 0, 0, 0, 0, 0, 0, 0, 0, 0, 0, 0, 0, 0, 0, 0, 0, 0, 0, 0])\n",
            "('G', [0, 0, 0, 0, 0, 0, 0, 0, 0, 0, 0, 0, 0, 0, 0, 0, 0, 0, 0, 0, 0, 0, 0, 0, 0, 0, 0, 0, 0, 0, 0, 0])\n"
          ]
        }
      ]
    },
    {
      "cell_type": "code",
      "source": [
        "def preenche_matriz(lista, matriz_zeros):\n",
        "  tamanho_sequencia = len(lista[0])\n",
        "\n",
        "  for seq in lista:\n",
        "    for pos in range(tamanho_sequencia):\n",
        "      base = seq[pos]\n",
        "      matriz_zeros[base][pos] +=1\n",
        "\n",
        "  return matriz_zeros"
      ],
      "metadata": {
        "id": "oii10E_abmXl"
      },
      "execution_count": 14,
      "outputs": []
    },
    {
      "cell_type": "code",
      "source": [
        "matriz = preenche_matriz(lista_sequencia, matriz_zeros)\n",
        "\n",
        "for linha in matriz.items():\n",
        "  print(linha)"
      ],
      "metadata": {
        "colab": {
          "base_uri": "https://localhost:8080/"
        },
        "id": "wbZrFZnjcb-7",
        "outputId": "41515471-3b73-4426-e07f-609ea5e5889d"
      },
      "execution_count": 16,
      "outputs": [
        {
          "output_type": "stream",
          "name": "stdout",
          "text": [
            "('A', [2, 1, 0, 2, 2, 0, 2, 0, 0, 0, 0, 0, 0, 2, 0, 0, 2, 0, 2, 2, 0, 0, 0, 2, 0, 0, 0, 0, 2, 0, 0, 1])\n",
            "('C', [0, 0, 0, 0, 0, 0, 0, 0, 0, 2, 0, 0, 0, 0, 0, 0, 0, 2, 0, 0, 0, 0, 2, 0, 0, 0, 0, 0, 0, 0, 0, 0])\n",
            "('T', [0, 0, 2, 0, 0, 2, 0, 2, 2, 0, 2, 2, 2, 0, 2, 0, 0, 0, 0, 0, 2, 2, 0, 0, 2, 2, 2, 0, 0, 2, 2, 1])\n",
            "('G', [0, 1, 0, 0, 0, 0, 0, 0, 0, 0, 0, 0, 0, 0, 0, 2, 0, 0, 0, 0, 0, 0, 0, 0, 0, 0, 0, 2, 0, 0, 0, 0])\n"
          ]
        }
      ]
    },
    {
      "cell_type": "code",
      "source": [
        "grupo_externo = \"GATAATAGTCTATATCGCAACTCATTTGATTA\"\n",
        "\n",
        "lista_sequencia.append(grupo_externo)"
      ],
      "metadata": {
        "id": "AVWVU8xQckLQ"
      },
      "execution_count": 18,
      "outputs": []
    },
    {
      "cell_type": "code",
      "source": [
        "matriz_zeros = cria_matriz(lista_sequencia)\n",
        "\n",
        "matriz = preenche_matriz(lista_sequencia, matriz_zeros)\n",
        "\n",
        "for linha in matriz.items():\n",
        "  print(linha)"
      ],
      "metadata": {
        "colab": {
          "base_uri": "https://localhost:8080/"
        },
        "id": "hm34-aOXdxh7",
        "outputId": "688a6292-66e7-46f4-bb7a-69308e2c215b"
      },
      "execution_count": 20,
      "outputs": [
        {
          "output_type": "stream",
          "name": "stdout",
          "text": [
            "('A', [2, 2, 0, 3, 3, 0, 3, 0, 0, 0, 0, 1, 0, 3, 0, 0, 2, 0, 3, 3, 0, 0, 0, 3, 0, 0, 0, 0, 3, 0, 0, 2])\n",
            "('C', [0, 0, 0, 0, 0, 0, 0, 0, 0, 3, 0, 0, 0, 0, 0, 1, 0, 3, 0, 0, 1, 0, 3, 0, 0, 0, 0, 0, 0, 0, 0, 0])\n",
            "('T', [0, 0, 3, 0, 0, 3, 0, 2, 3, 0, 3, 2, 3, 0, 3, 0, 0, 0, 0, 0, 2, 3, 0, 0, 3, 3, 3, 0, 0, 3, 3, 1])\n",
            "('G', [1, 1, 0, 0, 0, 0, 0, 1, 0, 0, 0, 0, 0, 0, 0, 2, 1, 0, 0, 0, 0, 0, 0, 0, 0, 0, 0, 3, 0, 0, 0, 0])\n"
          ]
        }
      ]
    },
    {
      "cell_type": "code",
      "source": [
        "def sequencia_ancestral(matriz):\n",
        "  seq_ancestral = \"\"\n",
        "  maior_valor = 0\n",
        "  tamanho_sequencia = len(matriz[\"A\"])\n",
        "\n",
        "  for pos in range(tamanho_sequencia):\n",
        "    for base in \"ACTG\":\n",
        "      valor_atual = matriz[base][pos]\n",
        "      if valor_atual > maior_valor:\n",
        "        maior_valor = valor_atual\n",
        "        base_mais_frequente = base\n",
        "    seq_ancestral += base_mais_frequente\n",
        "    maior_valor = 0\n",
        "\n",
        "  return sequencia_ancestral\n"
      ],
      "metadata": {
        "id": "WbN8zsmheDx4"
      },
      "execution_count": 26,
      "outputs": []
    },
    {
      "cell_type": "code",
      "source": [
        "ancestral = sequencia_ancestral(matriz)"
      ],
      "metadata": {
        "id": "Ogd0eUiCfhNE"
      },
      "execution_count": 27,
      "outputs": []
    },
    {
      "cell_type": "code",
      "source": [
        "print(\"Humano: \", humano)\n",
        "print(\"Chimpanzé: \", chimpanze)\n",
        "print(\"Ancestral: \", ancestral)"
      ],
      "metadata": {
        "colab": {
          "base_uri": "https://localhost:8080/"
        },
        "id": "eS6BRnvlfmls",
        "outputId": "0982db93-1519-48c9-c8bd-45cbd1eedc9a"
      },
      "execution_count": 29,
      "outputs": [
        {
          "output_type": "stream",
          "name": "stdout",
          "text": [
            "Humano:  AGTAATATTCTTTATGACAATTCATTTGATTA\n",
            "Chimpanzé:  AATAATATTCTTTATGACAATTCATTTGATTT\n",
            "Ancestral:  <function sequencia_ancestral at 0x7faa4b44e9e0>\n"
          ]
        }
      ]
    },
    {
      "cell_type": "code",
      "source": [
        ""
      ],
      "metadata": {
        "id": "s4_XimGcf-_O"
      },
      "execution_count": null,
      "outputs": []
    }
  ]
}